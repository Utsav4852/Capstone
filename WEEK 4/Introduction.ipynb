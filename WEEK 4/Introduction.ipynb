{
 "cells": [
  {
   "cell_type": "markdown",
   "metadata": {},
   "source": [
    "# Introduction: Business Problem <a name=\"introduction\"></a>"
   ]
  },
  {
   "cell_type": "markdown",
   "metadata": {},
   "source": [
    "The purpose of this project is to help people getting best neighnourhood which wants to migrant to canada. Not only this but they can also refer through different locations which they have near that place. So this will help people to getting best environment according to their need.\n",
    "\n",
    "Nowadays lots of people are migrating to Canada either for study or business, so this is my main motto to choose this topic as my capstone project. Aspecially for student who wants to do emmense amount of work in very short period of time. They will need some essential things on their finger tips and it will help them to gettimg workdone immidiently. For better experience it is more important to have a maximum of essentialities near residence.\n",
    "\n",
    "This project is for those people who is migrating to canada for study purpose or think to settle there. With the help of this project they can easily find the things like Schools, College, Mall, Metro stations, Bus stations, theator, hospital and so on and so fourth. \n",
    "\n",
    "By create an analytical features of North York area to help people choose better neighbourhood in canada. It will give brief introduction of things which they will get in their neighbourhoods at choosen place and will help them to start a fresh life."
   ]
  },
  {
   "cell_type": "markdown",
   "metadata": {},
   "source": [
    "### Problem Which Tried To Solve"
   ]
  },
  {
   "cell_type": "markdown",
   "metadata": {},
   "source": [
    "The major purpose of this project, is to suggest a better neighborhood in a new city for the person who are shiffting there. Social presence in society in terms of like minded people. Connectivity to the airport, bus stand, city center, markets and other daily needs things nearby.\n",
    "\n",
    "1. Sorted list of house in terms of housing prices in a ascending or descending order \n",
    "2. Sorted list of schools in terms of location, fees, rating and reviews"
   ]
  },
  {
   "cell_type": "markdown",
   "metadata": {},
   "source": [
    "### The Location"
   ]
  },
  {
   "cell_type": "markdown",
   "metadata": {},
   "source": [
    "North York, is very popular location for students as top ranked university (**YORK UNIVERSITY**) is settled there. And not only for this but it also very suitable for business class person as it very near to the capital of toronto. So it is useful for those new comers who wants to settled their buiness."
   ]
  },
  {
   "cell_type": "markdown",
   "metadata": {},
   "source": [
    "### FourSquare API"
   ]
  },
  {
   "cell_type": "markdown",
   "metadata": {},
   "source": [
    "With the help of this api we can gether the information about hospital, schools, bus stand, metro station, airport, colleges, theater, mall and many more."
   ]
  },
  {
   "cell_type": "markdown",
   "metadata": {},
   "source": [
    "### Work Flow"
   ]
  },
  {
   "cell_type": "markdown",
   "metadata": {},
   "source": [
    "Using credentials of Foursquare API features of near-by places of the neighborhoods would be mined. Due to http request limitations the number of places per neighborhood parameter would reasonably be set to 100 and the radius parameter would be set to 500."
   ]
  },
  {
   "cell_type": "markdown",
   "metadata": {},
   "source": [
    "### Clustering Approach"
   ]
  },
  {
   "cell_type": "markdown",
   "metadata": {},
   "source": [
    "To compare the similarities of two cities, we decided to explore neighborhoods, segment them, and group them into clusters to find similar neighborhoods in a big city like New York and Toronto. To be able to do that, we need to cluster data which is a form of unsupervised machine learning: k-means clustering algorithm"
   ]
  },
  {
   "cell_type": "markdown",
   "metadata": {},
   "source": [
    "### Libraries "
   ]
  },
  {
   "cell_type": "markdown",
   "metadata": {},
   "source": [
    "Pandas: For creating and manipulating dataframes.\n",
    "\n",
    "Folium: Python visualization library would be used to visualize the neighborhoods cluster distribution of using interactive leaflet map.\n",
    "\n",
    "Scikit Learn: For importing k-means clustering.\n",
    "\n",
    "JSON: Library to handle JSON files.\n",
    "\n",
    "XML: To separate data from presentation and XML stores data in plain text format.\n",
    "\n",
    "Geocoder: To retrieve Location Data.\n",
    "\n",
    "Beautiful Soup and Requests: To scrap and library to handle http requests.\n",
    "\n",
    "Matplotlib: Python Plotting Module."
   ]
  }
 ],
 "metadata": {
  "kernelspec": {
   "display_name": "Python 3",
   "language": "python",
   "name": "python3"
  },
  "language_info": {
   "codemirror_mode": {
    "name": "ipython",
    "version": 3
   },
   "file_extension": ".py",
   "mimetype": "text/x-python",
   "name": "python",
   "nbconvert_exporter": "python",
   "pygments_lexer": "ipython3",
   "version": "3.7.4"
  }
 },
 "nbformat": 4,
 "nbformat_minor": 4
}
